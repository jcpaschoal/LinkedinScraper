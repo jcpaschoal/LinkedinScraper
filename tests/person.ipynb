{
 "cells": [
  {
   "cell_type": "code",
   "execution_count": 1,
   "metadata": {
    "collapsed": true
   },
   "outputs": [
    {
     "name": "stderr",
     "output_type": "stream",
     "text": [
      "[WDM] - Downloading: 100%|██████████| 6.96M/6.96M [00:00<00:00, 31.6MB/s]\n",
      "2022-12-12 02:46:12.382 | INFO     | core.linkedin:_login:41 - Logging in as :joaodasilvajunior31@gmail.com\n"
     ]
    }
   ],
   "source": [
    "from core.linkedin import LinkedinScraper\n",
    "import os\n",
    "\n",
    "os.environ.setdefault(\"LINKEDIN_USER\", \"joaodasilvajunior31@gmail.com\")\n",
    "os.environ.setdefault(\"LINKEDIN_PASSWORD\", \"Joao1234\")\n",
    "\n",
    "scraper = LinkedinScraper()\n",
    "Person = scraper.get_person()"
   ]
  },
  {
   "cell_type": "code",
   "execution_count": 2,
   "outputs": [
    {
     "data": {
      "text/plain": "['https://www.linkedin.com/feed/?nis=true',\n 'https://www.linkedin.com/feed/?nis=true&',\n 'https://www.linkedin.com/mynetwork/?',\n 'https://www.linkedin.com/jobs/?',\n 'https://www.linkedin.com/messaging/?',\n 'https://www.linkedin.com/notifications/?',\n 'https://www.linkedin.com/premium/products/?upsellOrderOrigin=premium_nav_upsell_text&destRedirectURL=https%3A%2F%2Fwww.linkedin.com%2Fin%2Fkerry-f-corcoran-2668825%2F',\n '/in/kerry-f-corcoran-2668825/overlay/contact-info/',\n 'https://www.linkedin.com/in/kerry-f-corcoran-2668825/overlay/50181657/single-media-viewer?type=LINK&profileId=ACoAAAEExu4BNuCwlOA-I5lMOUI_jmhRJDatmFw',\n 'https://www.linkedin.com/in/kerry-f-corcoran-2668825/overlay/50181657/single-media-viewer?type=LINK&profileId=ACoAAAEExu4BNuCwlOA-I5lMOUI_jmhRJDatmFw',\n 'https://www.linkedin.com/feed/update/urn:li:activity:6993626447076605952?updateEntityUrn=urn%3Ali%3Afs_updateV2%3A%28urn%3Ali%3Aactivity%3A6993626447076605952%2CFEED_DETAIL%2CEMPTY%2CDEFAULT%2Cfalse%29',\n 'https://www.linkedin.com/feed/update/urn:li:activity:6993626447076605952?updateEntityUrn=urn%3Ali%3Afs_updateV2%3A%28urn%3Ali%3Aactivity%3A6993626447076605952%2CFEED_DETAIL%2CEMPTY%2CDEFAULT%2Cfalse%29',\n 'https://www.linkedin.com/in/kerry-f-corcoran-2668825/recent-activity/',\n 'https://www.linkedin.com/company/871817/',\n 'https://www.linkedin.com/company/871817/',\n 'https://www.linkedin.com/company/871817/',\n 'https://www.linkedin.com/company/871817/',\n 'https://www.linkedin.com/company/871817/',\n 'https://www.linkedin.com/in/kerry-f-corcoran-2668825/details/experience?profileUrn=urn%3Ali%3Afsd_profile%3AACoAAAEExu4BNuCwlOA-I5lMOUI_jmhRJDatmFw',\n 'https://www.linkedin.com/company/165024/',\n 'https://www.linkedin.com/company/165024/',\n 'https://www.linkedin.com/company/165024/',\n 'https://www.linkedin.com/company/165024/',\n 'https://www.linkedin.com/company/99217/',\n 'https://www.linkedin.com/search/results/all/?keywords=Experian',\n 'https://www.linkedin.com/search/results/all/?keywords=Tech%2E+School',\n 'https://www.linkedin.com/company/735085/',\n 'https://www.linkedin.com/company/2641/',\n 'https://www.linkedin.com/company/2988/',\n 'https://www.linkedin.com/in/kerry-f-corcoran-2668825/details/certifications?profileUrn=urn%3Ali%3Afsd_profile%3AACoAAAEExu4BNuCwlOA-I5lMOUI_jmhRJDatmFw',\n 'https://www.linkedin.com/search/results/all/?keywords=Troubleshooting&origin=PROFILE_PAGE_SKILL_NAVIGATION',\n 'https://www.linkedin.com/in/kerry-f-corcoran-2668825/overlay/urn:li:fsd_skill:(ACoAAAEExu4BNuCwlOA-I5lMOUI_jmhRJDatmFw,5)/endorsers?profileUrn=urn%3Ali%3Afsd_profile%3AACoAAAEExu4BNuCwlOA-I5lMOUI_jmhRJDatmFw&tabIndex=1&modalTabIndex=1',\n 'https://www.linkedin.com/in/kerry-f-corcoran-2668825/overlay/urn:li:fsd_skill:(ACoAAAEExu4BNuCwlOA-I5lMOUI_jmhRJDatmFw,5)/endorsers?profileUrn=urn%3Ali%3Afsd_profile%3AACoAAAEExu4BNuCwlOA-I5lMOUI_jmhRJDatmFw&tabIndex=2&modalTabIndex=2',\n 'https://www.linkedin.com/in/kerry-f-corcoran-2668825/details/skills/urn:li:fsd_skill:(ACoAAAEExu4BNuCwlOA-I5lMOUI_jmhRJDatmFw,5)/endorsers?profileUrn=urn%3Ali%3Afsd_profile%3AACoAAAEExu4BNuCwlOA-I5lMOUI_jmhRJDatmFw&tabIndex=0&modalTabIndex=0&detailScreenTabIndex=0',\n 'https://www.linkedin.com/search/results/all/?keywords=Virtualization&origin=PROFILE_PAGE_SKILL_NAVIGATION',\n 'https://www.linkedin.com/in/kerry-f-corcoran-2668825/overlay/urn:li:fsd_skill:(ACoAAAEExu4BNuCwlOA-I5lMOUI_jmhRJDatmFw,6)/endorsers?profileUrn=urn%3Ali%3Afsd_profile%3AACoAAAEExu4BNuCwlOA-I5lMOUI_jmhRJDatmFw&tabIndex=1&modalTabIndex=1',\n 'https://www.linkedin.com/in/kerry-f-corcoran-2668825/details/skills/urn:li:fsd_skill:(ACoAAAEExu4BNuCwlOA-I5lMOUI_jmhRJDatmFw,6)/endorsers?profileUrn=urn%3Ali%3Afsd_profile%3AACoAAAEExu4BNuCwlOA-I5lMOUI_jmhRJDatmFw&tabIndex=0&modalTabIndex=0&detailScreenTabIndex=0',\n 'https://www.linkedin.com/search/results/all/?keywords=Servers&origin=PROFILE_PAGE_SKILL_NAVIGATION',\n 'https://www.linkedin.com/in/kerry-f-corcoran-2668825/overlay/urn:li:fsd_skill:(ACoAAAEExu4BNuCwlOA-I5lMOUI_jmhRJDatmFw,7)/endorsers?profileUrn=urn%3Ali%3Afsd_profile%3AACoAAAEExu4BNuCwlOA-I5lMOUI_jmhRJDatmFw&tabIndex=1&modalTabIndex=1',\n 'https://www.linkedin.com/in/kerry-f-corcoran-2668825/details/skills/urn:li:fsd_skill:(ACoAAAEExu4BNuCwlOA-I5lMOUI_jmhRJDatmFw,7)/endorsers?profileUrn=urn%3Ali%3Afsd_profile%3AACoAAAEExu4BNuCwlOA-I5lMOUI_jmhRJDatmFw&tabIndex=0&modalTabIndex=0&detailScreenTabIndex=0',\n 'https://www.linkedin.com/in/kerry-f-corcoran-2668825/details/skills?profileUrn=urn%3Ali%3Afsd_profile%3AACoAAAEExu4BNuCwlOA-I5lMOUI_jmhRJDatmFw',\n 'https://www.linkedin.com/in/jwatkins-msp',\n 'https://www.linkedin.com/in/jwatkins-msp',\n 'https://www.linkedin.com/company/80710619/',\n 'https://www.linkedin.com/company/80710619/',\n 'https://www.linkedin.com/company/76710/',\n 'https://www.linkedin.com/company/76710/',\n 'https://www.linkedin.com/in/kerry-f-corcoran-2668825/details/interests?profileUrn=urn%3Ali%3Afsd_profile%3AACoAAAEExu4BNuCwlOA-I5lMOUI_jmhRJDatmFw&tabIndex=0&detailScreenTabIndex=0',\n 'https://www.linkedin.com/groups/3484219',\n 'https://www.linkedin.com/groups/3484219',\n 'https://www.linkedin.com/groups/1832255',\n 'https://www.linkedin.com/groups/1832255',\n '/in/janell-uken-4a43935/',\n '/in/tricia-janes/',\n '/in/philip-allen-cloudalto/',\n '/in/kellyschrad/',\n '/in/ron-roth-7489b330/',\n '/in/veronicatm/',\n '/in/beatriztenente/',\n '/in/camila-gomes-3b75b6225/',\n '/in/julialucena-55/',\n '/in/luiza-kocher-campos-ribeiro-de-lima-92413a19a/']"
     },
     "execution_count": 2,
     "metadata": {},
     "output_type": "execute_result"
    }
   ],
   "source": [
    "Person.href"
   ],
   "metadata": {
    "collapsed": false
   }
  },
  {
   "cell_type": "code",
   "execution_count": 4,
   "outputs": [],
   "source": [
    "from selenium.webdriver.common.by import By\n",
    "from selenium.webdriver.support.ui import WebDriverWait\n",
    "from selenium.webdriver.support import expected_conditions as EC"
   ],
   "metadata": {
    "collapsed": false
   }
  },
  {
   "cell_type": "code",
   "execution_count": 6,
   "outputs": [],
   "source": [
    "test = WebDriverWait(Person.driver, 5).until(EC.presence_of_element_located((By.CLASS_NAME, \"pvs-entity\")))"
   ],
   "metadata": {
    "collapsed": false
   }
  },
  {
   "cell_type": "code",
   "execution_count": 25,
   "outputs": [],
   "source": [
    "exp = Person.driver.find_elements(By.CLASS_NAME, \"pvs-entity--padded\")\n"
   ],
   "metadata": {
    "collapsed": false
   }
  },
  {
   "cell_type": "code",
   "execution_count": 49,
   "outputs": [
    {
     "name": "stdout",
     "output_type": "stream",
     "text": [
      "DataVizion\n",
      "DataVizion\n",
      "Tempo integral · 10 a 10 m\n",
      "Tempo integral · 10 a 10 m\n",
      "Director, Small & Mid-Size Business Unit\n",
      "Director, Small & Mid-Size Business Unit\n",
      "jan de 2021 - o momento · 2 anos\n",
      "jan de 2021 - o momento · 2 anos\n",
      "Director, Professional Services\n",
      "Director, Professional Services\n",
      "dez de 2019 - jan de 2021 · 1 ano 2 meses\n",
      "dez de 2019 - jan de 2021 · 1 ano 2 meses\n",
      "Lincoln, Nebraska, United States\n",
      "Lincoln, Nebraska, United States\n",
      "Director, Project Operation\n",
      "Director, Project Operation\n",
      "dez de 2018 - dez de 2019 · 1 ano 1 mês\n",
      "dez de 2018 - dez de 2019 · 1 ano 1 mês\n",
      "Lincoln, Nebraska, United States\n",
      "Lincoln, Nebraska, United States\n",
      "Systems Engineer / Project Manager\n",
      "Systems Engineer / Project Manager\n",
      "mar de 2012 - nov de 2018 · 6 anos 9 meses\n",
      "mar de 2012 - nov de 2018 · 6 anos 9 meses\n",
      "Lincoln, Nebraska Area\n",
      "Lincoln, Nebraska Area 0\n",
      "Molex\n",
      "Molex\n",
      "13 a 4 m\n",
      "13 a 4 m\n",
      "Senior Network Engineer / Project Leader\n",
      "Senior Network Engineer / Project Leader\n",
      "mar de 2006 - mar de 2012 · 6 anos 1 mês\n",
      "mar de 2006 - mar de 2012 · 6 anos 1 mês\n",
      "Systems Analyst\n",
      "Systems Analyst\n",
      "dez de 1998 - mar de 2006 · 7 anos 4 meses\n",
      "dez de 1998 - mar de 2006 · 7 anos 4 meses\n",
      "Lincoln, Nebraska Area\n",
      "Lincoln, Nebraska Area 1\n",
      "Field Technician\n",
      "Field Technician\n",
      "Bizco Technologies\n",
      "Bizco Technologies\n",
      "mar de 1996 - dez de 1998 · 2 anos 10 meses\n",
      "mar de 1996 - dez de 1998 · 2 anos 10 meses\n",
      "Lincoln, Nebraska Area\n",
      "Lincoln, Nebraska Area 2\n",
      "Desktop Support\n",
      "Desktop Support\n",
      "Experian\n",
      "Experian\n",
      "abr de 1995 - mar de 1996 · 1 ano\n",
      "abr de 1995 - mar de 1996 · 1 ano\n",
      "Lincoln, Nebraska Area\n",
      "Lincoln, Nebraska Area 3\n"
     ]
    }
   ],
   "source": [
    "for index, text in enumerate(exp):\n",
    "    print(text.text, index)"
   ],
   "metadata": {
    "collapsed": false
   }
  },
  {
   "cell_type": "code",
   "execution_count": 54,
   "outputs": [],
   "source": [
    "words = string1.split()"
   ],
   "metadata": {
    "collapsed": false
   }
  },
  {
   "cell_type": "code",
   "execution_count": 61,
   "outputs": [
    {
     "data": {
      "text/plain": "'DataVizion|Tempo integral · 10 a 10 m|Director, Small & Mid-Size Business Unit|jan de 2021 - o momento · 2 anos|Director, Professional Services|dez de 2019 - jan de 2021 · 1 ano 2 meses|Lincoln, Nebraska, United States|Director, Project Operation|dez de 2018 - dez de 2019 · 1 ano 1 mês|Systems Engineer / Project Manager|mar de 2012 - nov de 2018 · 6 anos 9 meses|Lincoln, Nebraska Area'"
     },
     "execution_count": 61,
     "metadata": {},
     "output_type": "execute_result"
    }
   ],
   "source": [
    "from collections import OrderedDict\n",
    "'|'.join(OrderedDict.fromkeys(exp[0].text.split('\\n')))"
   ],
   "metadata": {
    "collapsed": false
   }
  },
  {
   "cell_type": "code",
   "execution_count": 46,
   "outputs": [
    {
     "data": {
      "text/plain": "'Systems Analyst\\nSystems Analyst\\ndez de 1998 - mar de 2006 · 7 anos 4 meses\\ndez de 1998 - mar de 2006 · 7 anos 4 meses\\nLincoln, Nebraska Area\\nLincoln, Nebraska Area'"
     },
     "execution_count": 46,
     "metadata": {},
     "output_type": "execute_result"
    }
   ],
   "source": [],
   "metadata": {
    "collapsed": false
   }
  },
  {
   "cell_type": "code",
   "execution_count": null,
   "outputs": [],
   "source": [],
   "metadata": {
    "collapsed": false
   }
  }
 ],
 "metadata": {
  "kernelspec": {
   "display_name": "Python 3",
   "language": "python",
   "name": "python3"
  },
  "language_info": {
   "codemirror_mode": {
    "name": "ipython",
    "version": 2
   },
   "file_extension": ".py",
   "mimetype": "text/x-python",
   "name": "python",
   "nbconvert_exporter": "python",
   "pygments_lexer": "ipython2",
   "version": "2.7.6"
  }
 },
 "nbformat": 4,
 "nbformat_minor": 0
}
