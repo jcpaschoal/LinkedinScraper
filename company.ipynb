{
 "cells": [
  {
   "cell_type": "code",
   "execution_count": 48,
   "outputs": [],
   "source": [
    "from core.linkedin import LinkedinScraper\n",
    "import os"
   ],
   "metadata": {
    "collapsed": false
   }
  },
  {
   "cell_type": "code",
   "execution_count": 49,
   "outputs": [
    {
     "name": "stderr",
     "output_type": "stream",
     "text": [
      "2022-12-26 18:21:18.828 | INFO     | core.actions:login:79 - Logging in as :joaodasilvajunior31@gmail.com\n"
     ]
    }
   ],
   "source": [
    "\n",
    "os.environ.setdefault(\"LINKEDIN_USER\", \"joaodasilvajunior31@gmail.com\")\n",
    "os.environ.setdefault(\"LINKEDIN_PASSWORD\", \"Joao1234\")\n",
    "scraper = LinkedinScraper()"
   ],
   "metadata": {
    "collapsed": false
   }
  },
  {
   "cell_type": "code",
   "execution_count": 4,
   "outputs": [],
   "source": [
    "\n",
    "from selenium.webdriver.support import expected_conditions as EC\n",
    "from selenium.webdriver.support.wait import WebDriverWait\n",
    "from webdriver_manager.chrome import ChromeDriverManager\n",
    "from speech_recognition import Recognizer, AudioFile\n",
    "from selenium.webdriver.chrome.service import Service\n",
    "from selenium.webdriver.chrome.options import Options\n",
    "from selenium.webdriver.common.by import By\n",
    "from selenium.common import TimeoutException\n",
    "from dataclasses import dataclass\n",
    "from selenium import webdriver\n",
    "from loguru import logger\n",
    "import random\n",
    "import urllib\n",
    "import os"
   ],
   "metadata": {
    "collapsed": false
   }
  },
  {
   "cell_type": "code",
   "execution_count": 50,
   "outputs": [],
   "source": [
    "driver = scraper.driver"
   ],
   "metadata": {
    "collapsed": false
   }
  },
  {
   "cell_type": "code",
   "execution_count": 51,
   "outputs": [],
   "source": [
    "test_1 = driver.find_element(By.ID, \"captcha-internal\")"
   ],
   "metadata": {
    "collapsed": false
   }
  },
  {
   "cell_type": "code",
   "execution_count": 52,
   "outputs": [
    {
     "data": {
      "text/plain": "True"
     },
     "execution_count": 52,
     "metadata": {},
     "output_type": "execute_result"
    }
   ],
   "source": [
    "WebDriverWait(driver, 10).until(EC.frame_to_be_available_and_switch_to_it((By.ID, \"captcha-internal\")))\n"
   ],
   "metadata": {
    "collapsed": false
   }
  },
  {
   "cell_type": "code",
   "execution_count": 53,
   "outputs": [
    {
     "data": {
      "text/plain": "True"
     },
     "execution_count": 53,
     "metadata": {},
     "output_type": "execute_result"
    }
   ],
   "source": [
    "WebDriverWait(driver, 10).until(EC.frame_to_be_available_and_switch_to_it((By.ID, \"arkoseframe\")))\n"
   ],
   "metadata": {
    "collapsed": false
   }
  },
  {
   "cell_type": "code",
   "execution_count": 54,
   "outputs": [
    {
     "data": {
      "text/plain": "True"
     },
     "execution_count": 54,
     "metadata": {},
     "output_type": "execute_result"
    }
   ],
   "source": [
    "WebDriverWait(driver, 10).until(EC.frame_to_be_available_and_switch_to_it((By.ID, \"fc-iframe-wrap\")))\n"
   ],
   "metadata": {
    "collapsed": false
   }
  },
  {
   "cell_type": "code",
   "execution_count": 55,
   "outputs": [],
   "source": [
    "driver.find_element(By.CLASS_NAME, \"fc_meta_audio_btn\").click()"
   ],
   "metadata": {
    "collapsed": false
   }
  },
  {
   "cell_type": "code",
   "execution_count": 18,
   "outputs": [],
   "source": [
    "driver.find_element(By.ID, \"audio_download\").click()\n"
   ],
   "metadata": {
    "collapsed": false
   }
  },
  {
   "cell_type": "code",
   "execution_count": 19,
   "outputs": [],
   "source": [
    "from speech_recognition import Recognizer, AudioFile\n"
   ],
   "metadata": {
    "collapsed": false
   }
  },
  {
   "cell_type": "code",
   "execution_count": 20,
   "outputs": [],
   "source": [
    "recognizer = Recognizer()\n"
   ],
   "metadata": {
    "collapsed": false
   }
  },
  {
   "cell_type": "code",
   "execution_count": 56,
   "outputs": [],
   "source": [
    "recaptcha_audio = AudioFile(\"/home/zeca/PycharmProjects/linkedinScrapper/audio_verification_challenge_50863a9e627b63142.8056214705-0.wav\")"
   ],
   "metadata": {
    "collapsed": false
   }
  },
  {
   "cell_type": "code",
   "execution_count": 57,
   "outputs": [],
   "source": [
    "with recaptcha_audio as source:\n",
    "    audio = recognizer.record(source)\n"
   ],
   "metadata": {
    "collapsed": false
   }
  },
  {
   "cell_type": "code",
   "execution_count": 60,
   "outputs": [
    {
     "name": "stdout",
     "output_type": "stream",
     "text": [
      "result2:\n",
      "{   'alternative': [   {'confidence': 0.30901384, 'transcript': '1314'},\n",
      "                       {'transcript': '134'},\n",
      "                       {'transcript': '13 14'},\n",
      "                       {'transcript': 'R134'},\n",
      "                       {'transcript': '13/14'}],\n",
      "    'final': True}\n"
     ]
    }
   ],
   "source": [
    "text = recognizer.recognize_google(audio)\n"
   ],
   "metadata": {
    "collapsed": false
   }
  },
  {
   "cell_type": "code",
   "execution_count": 40,
   "outputs": [],
   "source": [],
   "metadata": {
    "collapsed": false
   }
  },
  {
   "cell_type": "code",
   "execution_count": 45,
   "outputs": [
    {
     "ename": "DefaultCredentialsError",
     "evalue": "Could not automatically determine credentials. Please set GOOGLE_APPLICATION_CREDENTIALS or explicitly create credentials and re-run the application. For more information, please see https://cloud.google.com/docs/authentication/getting-started",
     "output_type": "error",
     "traceback": [
      "\u001B[0;31m---------------------------------------------------------------------------\u001B[0m",
      "\u001B[0;31mDefaultCredentialsError\u001B[0m                   Traceback (most recent call last)",
      "Cell \u001B[0;32mIn[45], line 1\u001B[0m\n\u001B[0;32m----> 1\u001B[0m client \u001B[38;5;241m=\u001B[39m \u001B[43mspeech\u001B[49m\u001B[38;5;241;43m.\u001B[39;49m\u001B[43mSpeechClient\u001B[49m\u001B[43m(\u001B[49m\u001B[43m)\u001B[49m\n",
      "File \u001B[0;32m~/.local/share/virtualenvs/linkedinScrapper-Ns8Fpst2/lib/python3.10/site-packages/google/cloud/speech_v1/services/speech/client.py:451\u001B[0m, in \u001B[0;36mSpeechClient.__init__\u001B[0;34m(self, credentials, transport, client_options, client_info)\u001B[0m\n\u001B[1;32m    446\u001B[0m     credentials \u001B[38;5;241m=\u001B[39m google\u001B[38;5;241m.\u001B[39mauth\u001B[38;5;241m.\u001B[39m_default\u001B[38;5;241m.\u001B[39mget_api_key_credentials(\n\u001B[1;32m    447\u001B[0m         api_key_value\n\u001B[1;32m    448\u001B[0m     )\n\u001B[1;32m    450\u001B[0m Transport \u001B[38;5;241m=\u001B[39m \u001B[38;5;28mtype\u001B[39m(\u001B[38;5;28mself\u001B[39m)\u001B[38;5;241m.\u001B[39mget_transport_class(transport)\n\u001B[0;32m--> 451\u001B[0m \u001B[38;5;28mself\u001B[39m\u001B[38;5;241m.\u001B[39m_transport \u001B[38;5;241m=\u001B[39m \u001B[43mTransport\u001B[49m\u001B[43m(\u001B[49m\n\u001B[1;32m    452\u001B[0m \u001B[43m    \u001B[49m\u001B[43mcredentials\u001B[49m\u001B[38;5;241;43m=\u001B[39;49m\u001B[43mcredentials\u001B[49m\u001B[43m,\u001B[49m\n\u001B[1;32m    453\u001B[0m \u001B[43m    \u001B[49m\u001B[43mcredentials_file\u001B[49m\u001B[38;5;241;43m=\u001B[39;49m\u001B[43mclient_options\u001B[49m\u001B[38;5;241;43m.\u001B[39;49m\u001B[43mcredentials_file\u001B[49m\u001B[43m,\u001B[49m\n\u001B[1;32m    454\u001B[0m \u001B[43m    \u001B[49m\u001B[43mhost\u001B[49m\u001B[38;5;241;43m=\u001B[39;49m\u001B[43mapi_endpoint\u001B[49m\u001B[43m,\u001B[49m\n\u001B[1;32m    455\u001B[0m \u001B[43m    \u001B[49m\u001B[43mscopes\u001B[49m\u001B[38;5;241;43m=\u001B[39;49m\u001B[43mclient_options\u001B[49m\u001B[38;5;241;43m.\u001B[39;49m\u001B[43mscopes\u001B[49m\u001B[43m,\u001B[49m\n\u001B[1;32m    456\u001B[0m \u001B[43m    \u001B[49m\u001B[43mclient_cert_source_for_mtls\u001B[49m\u001B[38;5;241;43m=\u001B[39;49m\u001B[43mclient_cert_source_func\u001B[49m\u001B[43m,\u001B[49m\n\u001B[1;32m    457\u001B[0m \u001B[43m    \u001B[49m\u001B[43mquota_project_id\u001B[49m\u001B[38;5;241;43m=\u001B[39;49m\u001B[43mclient_options\u001B[49m\u001B[38;5;241;43m.\u001B[39;49m\u001B[43mquota_project_id\u001B[49m\u001B[43m,\u001B[49m\n\u001B[1;32m    458\u001B[0m \u001B[43m    \u001B[49m\u001B[43mclient_info\u001B[49m\u001B[38;5;241;43m=\u001B[39;49m\u001B[43mclient_info\u001B[49m\u001B[43m,\u001B[49m\n\u001B[1;32m    459\u001B[0m \u001B[43m    \u001B[49m\u001B[43malways_use_jwt_access\u001B[49m\u001B[38;5;241;43m=\u001B[39;49m\u001B[38;5;28;43;01mTrue\u001B[39;49;00m\u001B[43m,\u001B[49m\n\u001B[1;32m    460\u001B[0m \u001B[43m    \u001B[49m\u001B[43mapi_audience\u001B[49m\u001B[38;5;241;43m=\u001B[39;49m\u001B[43mclient_options\u001B[49m\u001B[38;5;241;43m.\u001B[39;49m\u001B[43mapi_audience\u001B[49m\u001B[43m,\u001B[49m\n\u001B[1;32m    461\u001B[0m \u001B[43m\u001B[49m\u001B[43m)\u001B[49m\n",
      "File \u001B[0;32m~/.local/share/virtualenvs/linkedinScrapper-Ns8Fpst2/lib/python3.10/site-packages/google/cloud/speech_v1/services/speech/transports/grpc.py:152\u001B[0m, in \u001B[0;36mSpeechGrpcTransport.__init__\u001B[0;34m(self, host, credentials, credentials_file, scopes, channel, api_mtls_endpoint, client_cert_source, ssl_channel_credentials, client_cert_source_for_mtls, quota_project_id, client_info, always_use_jwt_access, api_audience)\u001B[0m\n\u001B[1;32m    147\u001B[0m             \u001B[38;5;28mself\u001B[39m\u001B[38;5;241m.\u001B[39m_ssl_channel_credentials \u001B[38;5;241m=\u001B[39m grpc\u001B[38;5;241m.\u001B[39mssl_channel_credentials(\n\u001B[1;32m    148\u001B[0m                 certificate_chain\u001B[38;5;241m=\u001B[39mcert, private_key\u001B[38;5;241m=\u001B[39mkey\n\u001B[1;32m    149\u001B[0m             )\n\u001B[1;32m    151\u001B[0m \u001B[38;5;66;03m# The base transport sets the host, credentials and scopes\u001B[39;00m\n\u001B[0;32m--> 152\u001B[0m \u001B[38;5;28;43msuper\u001B[39;49m\u001B[43m(\u001B[49m\u001B[43m)\u001B[49m\u001B[38;5;241;43m.\u001B[39;49m\u001B[38;5;21;43m__init__\u001B[39;49m\u001B[43m(\u001B[49m\n\u001B[1;32m    153\u001B[0m \u001B[43m    \u001B[49m\u001B[43mhost\u001B[49m\u001B[38;5;241;43m=\u001B[39;49m\u001B[43mhost\u001B[49m\u001B[43m,\u001B[49m\n\u001B[1;32m    154\u001B[0m \u001B[43m    \u001B[49m\u001B[43mcredentials\u001B[49m\u001B[38;5;241;43m=\u001B[39;49m\u001B[43mcredentials\u001B[49m\u001B[43m,\u001B[49m\n\u001B[1;32m    155\u001B[0m \u001B[43m    \u001B[49m\u001B[43mcredentials_file\u001B[49m\u001B[38;5;241;43m=\u001B[39;49m\u001B[43mcredentials_file\u001B[49m\u001B[43m,\u001B[49m\n\u001B[1;32m    156\u001B[0m \u001B[43m    \u001B[49m\u001B[43mscopes\u001B[49m\u001B[38;5;241;43m=\u001B[39;49m\u001B[43mscopes\u001B[49m\u001B[43m,\u001B[49m\n\u001B[1;32m    157\u001B[0m \u001B[43m    \u001B[49m\u001B[43mquota_project_id\u001B[49m\u001B[38;5;241;43m=\u001B[39;49m\u001B[43mquota_project_id\u001B[49m\u001B[43m,\u001B[49m\n\u001B[1;32m    158\u001B[0m \u001B[43m    \u001B[49m\u001B[43mclient_info\u001B[49m\u001B[38;5;241;43m=\u001B[39;49m\u001B[43mclient_info\u001B[49m\u001B[43m,\u001B[49m\n\u001B[1;32m    159\u001B[0m \u001B[43m    \u001B[49m\u001B[43malways_use_jwt_access\u001B[49m\u001B[38;5;241;43m=\u001B[39;49m\u001B[43malways_use_jwt_access\u001B[49m\u001B[43m,\u001B[49m\n\u001B[1;32m    160\u001B[0m \u001B[43m    \u001B[49m\u001B[43mapi_audience\u001B[49m\u001B[38;5;241;43m=\u001B[39;49m\u001B[43mapi_audience\u001B[49m\u001B[43m,\u001B[49m\n\u001B[1;32m    161\u001B[0m \u001B[43m\u001B[49m\u001B[43m)\u001B[49m\n\u001B[1;32m    163\u001B[0m \u001B[38;5;28;01mif\u001B[39;00m \u001B[38;5;129;01mnot\u001B[39;00m \u001B[38;5;28mself\u001B[39m\u001B[38;5;241m.\u001B[39m_grpc_channel:\n\u001B[1;32m    164\u001B[0m     \u001B[38;5;28mself\u001B[39m\u001B[38;5;241m.\u001B[39m_grpc_channel \u001B[38;5;241m=\u001B[39m \u001B[38;5;28mtype\u001B[39m(\u001B[38;5;28mself\u001B[39m)\u001B[38;5;241m.\u001B[39mcreate_channel(\n\u001B[1;32m    165\u001B[0m         \u001B[38;5;28mself\u001B[39m\u001B[38;5;241m.\u001B[39m_host,\n\u001B[1;32m    166\u001B[0m         \u001B[38;5;66;03m# use the credentials which are saved\u001B[39;00m\n\u001B[0;32m   (...)\u001B[0m\n\u001B[1;32m    177\u001B[0m         ],\n\u001B[1;32m    178\u001B[0m     )\n",
      "File \u001B[0;32m~/.local/share/virtualenvs/linkedinScrapper-Ns8Fpst2/lib/python3.10/site-packages/google/cloud/speech_v1/services/speech/transports/base.py:104\u001B[0m, in \u001B[0;36mSpeechTransport.__init__\u001B[0;34m(self, host, credentials, credentials_file, scopes, quota_project_id, client_info, always_use_jwt_access, api_audience, **kwargs)\u001B[0m\n\u001B[1;32m    100\u001B[0m     credentials, _ \u001B[38;5;241m=\u001B[39m google\u001B[38;5;241m.\u001B[39mauth\u001B[38;5;241m.\u001B[39mload_credentials_from_file(\n\u001B[1;32m    101\u001B[0m         credentials_file, \u001B[38;5;241m*\u001B[39m\u001B[38;5;241m*\u001B[39mscopes_kwargs, quota_project_id\u001B[38;5;241m=\u001B[39mquota_project_id\n\u001B[1;32m    102\u001B[0m     )\n\u001B[1;32m    103\u001B[0m \u001B[38;5;28;01melif\u001B[39;00m credentials \u001B[38;5;129;01mis\u001B[39;00m \u001B[38;5;28;01mNone\u001B[39;00m:\n\u001B[0;32m--> 104\u001B[0m     credentials, _ \u001B[38;5;241m=\u001B[39m \u001B[43mgoogle\u001B[49m\u001B[38;5;241;43m.\u001B[39;49m\u001B[43mauth\u001B[49m\u001B[38;5;241;43m.\u001B[39;49m\u001B[43mdefault\u001B[49m\u001B[43m(\u001B[49m\n\u001B[1;32m    105\u001B[0m \u001B[43m        \u001B[49m\u001B[38;5;241;43m*\u001B[39;49m\u001B[38;5;241;43m*\u001B[39;49m\u001B[43mscopes_kwargs\u001B[49m\u001B[43m,\u001B[49m\u001B[43m \u001B[49m\u001B[43mquota_project_id\u001B[49m\u001B[38;5;241;43m=\u001B[39;49m\u001B[43mquota_project_id\u001B[49m\n\u001B[1;32m    106\u001B[0m \u001B[43m    \u001B[49m\u001B[43m)\u001B[49m\n\u001B[1;32m    107\u001B[0m     \u001B[38;5;66;03m# Don't apply audience if the credentials file passed from user.\u001B[39;00m\n\u001B[1;32m    108\u001B[0m     \u001B[38;5;28;01mif\u001B[39;00m \u001B[38;5;28mhasattr\u001B[39m(credentials, \u001B[38;5;124m\"\u001B[39m\u001B[38;5;124mwith_gdch_audience\u001B[39m\u001B[38;5;124m\"\u001B[39m):\n",
      "File \u001B[0;32m~/.local/share/virtualenvs/linkedinScrapper-Ns8Fpst2/lib/python3.10/site-packages/google/auth/_default.py:653\u001B[0m, in \u001B[0;36mdefault\u001B[0;34m(scopes, request, quota_project_id, default_scopes)\u001B[0m\n\u001B[1;32m    645\u001B[0m             _LOGGER\u001B[38;5;241m.\u001B[39mwarning(\n\u001B[1;32m    646\u001B[0m                 \u001B[38;5;124m\"\u001B[39m\u001B[38;5;124mNo project ID could be determined. Consider running \u001B[39m\u001B[38;5;124m\"\u001B[39m\n\u001B[1;32m    647\u001B[0m                 \u001B[38;5;124m\"\u001B[39m\u001B[38;5;124m`gcloud config set project` or setting the \u001B[39m\u001B[38;5;132;01m%s\u001B[39;00m\u001B[38;5;124m \u001B[39m\u001B[38;5;124m\"\u001B[39m\n\u001B[1;32m    648\u001B[0m                 \u001B[38;5;124m\"\u001B[39m\u001B[38;5;124menvironment variable\u001B[39m\u001B[38;5;124m\"\u001B[39m,\n\u001B[1;32m    649\u001B[0m                 environment_vars\u001B[38;5;241m.\u001B[39mPROJECT,\n\u001B[1;32m    650\u001B[0m             )\n\u001B[1;32m    651\u001B[0m         \u001B[38;5;28;01mreturn\u001B[39;00m credentials, effective_project_id\n\u001B[0;32m--> 653\u001B[0m \u001B[38;5;28;01mraise\u001B[39;00m exceptions\u001B[38;5;241m.\u001B[39mDefaultCredentialsError(_HELP_MESSAGE)\n",
      "\u001B[0;31mDefaultCredentialsError\u001B[0m: Could not automatically determine credentials. Please set GOOGLE_APPLICATION_CREDENTIALS or explicitly create credentials and re-run the application. For more information, please see https://cloud.google.com/docs/authentication/getting-started"
     ]
    }
   ],
   "source": [],
   "metadata": {
    "collapsed": false
   }
  },
  {
   "cell_type": "code",
   "execution_count": 46,
   "outputs": [
    {
     "ename": "DefaultCredentialsError",
     "evalue": "Could not automatically determine credentials. Please set GOOGLE_APPLICATION_CREDENTIALS or explicitly create credentials and re-run the application. For more information, please see https://cloud.google.com/docs/authentication/getting-started",
     "output_type": "error",
     "traceback": [
      "\u001B[0;31m---------------------------------------------------------------------------\u001B[0m",
      "\u001B[0;31mDefaultCredentialsError\u001B[0m                   Traceback (most recent call last)",
      "Cell \u001B[0;32mIn[46], line 3\u001B[0m\n\u001B[1;32m      1\u001B[0m \u001B[38;5;28;01mimport\u001B[39;00m \u001B[38;5;21;01mgoogle\u001B[39;00m\u001B[38;5;21;01m.\u001B[39;00m\u001B[38;5;21;01mauth\u001B[39;00m\n\u001B[0;32m----> 3\u001B[0m credentials, project \u001B[38;5;241m=\u001B[39m \u001B[43mgoogle\u001B[49m\u001B[38;5;241;43m.\u001B[39;49m\u001B[43mauth\u001B[49m\u001B[38;5;241;43m.\u001B[39;49m\u001B[43mdefault\u001B[49m\u001B[43m(\u001B[49m\u001B[43m)\u001B[49m\n",
      "File \u001B[0;32m~/.local/share/virtualenvs/linkedinScrapper-Ns8Fpst2/lib/python3.10/site-packages/google/auth/_default.py:653\u001B[0m, in \u001B[0;36mdefault\u001B[0;34m(scopes, request, quota_project_id, default_scopes)\u001B[0m\n\u001B[1;32m    645\u001B[0m             _LOGGER\u001B[38;5;241m.\u001B[39mwarning(\n\u001B[1;32m    646\u001B[0m                 \u001B[38;5;124m\"\u001B[39m\u001B[38;5;124mNo project ID could be determined. Consider running \u001B[39m\u001B[38;5;124m\"\u001B[39m\n\u001B[1;32m    647\u001B[0m                 \u001B[38;5;124m\"\u001B[39m\u001B[38;5;124m`gcloud config set project` or setting the \u001B[39m\u001B[38;5;132;01m%s\u001B[39;00m\u001B[38;5;124m \u001B[39m\u001B[38;5;124m\"\u001B[39m\n\u001B[1;32m    648\u001B[0m                 \u001B[38;5;124m\"\u001B[39m\u001B[38;5;124menvironment variable\u001B[39m\u001B[38;5;124m\"\u001B[39m,\n\u001B[1;32m    649\u001B[0m                 environment_vars\u001B[38;5;241m.\u001B[39mPROJECT,\n\u001B[1;32m    650\u001B[0m             )\n\u001B[1;32m    651\u001B[0m         \u001B[38;5;28;01mreturn\u001B[39;00m credentials, effective_project_id\n\u001B[0;32m--> 653\u001B[0m \u001B[38;5;28;01mraise\u001B[39;00m exceptions\u001B[38;5;241m.\u001B[39mDefaultCredentialsError(_HELP_MESSAGE)\n",
      "\u001B[0;31mDefaultCredentialsError\u001B[0m: Could not automatically determine credentials. Please set GOOGLE_APPLICATION_CREDENTIALS or explicitly create credentials and re-run the application. For more information, please see https://cloud.google.com/docs/authentication/getting-started"
     ]
    }
   ],
   "source": [
    "\n"
   ],
   "metadata": {
    "collapsed": false
   }
  },
  {
   "cell_type": "code",
   "execution_count": null,
   "outputs": [],
   "source": [],
   "metadata": {
    "collapsed": false
   }
  }
 ],
 "metadata": {
  "kernelspec": {
   "display_name": "Python 3",
   "language": "python",
   "name": "python3"
  },
  "language_info": {
   "codemirror_mode": {
    "name": "ipython",
    "version": 2
   },
   "file_extension": ".py",
   "mimetype": "text/x-python",
   "name": "python",
   "nbconvert_exporter": "python",
   "pygments_lexer": "ipython2",
   "version": "2.7.6"
  }
 },
 "nbformat": 4,
 "nbformat_minor": 0
}
